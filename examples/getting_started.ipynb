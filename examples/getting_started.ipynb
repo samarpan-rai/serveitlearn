{
 "cells": [
  {
   "cell_type": "markdown",
   "metadata": {},
   "source": [
    "## Introduction\n",
    "\n",
    "The goal of this notebook is to load a pre-trained SVC model on iris data and make prediction on it. Iris data set is quite simple so that's why it has been chosen for this example notebook. "
   ]
  },
  {
   "cell_type": "code",
   "execution_count": null,
   "metadata": {},
   "outputs": [],
   "source": [
    "\n",
    "import numpy as np\n",
    "import pandas as pd\n",
    "from sklearn.datasets import load_iris\n",
    "from sklearn.svm import SVC\n",
    "from joblib import dump, load\n",
    "\n",
    "from serveitlearn.decorator import app, initalize, predict"
   ]
  },
  {
   "cell_type": "markdown",
   "metadata": {},
   "source": [
    "#### Snapshot of the data"
   ]
  },
  {
   "cell_type": "code",
   "execution_count": null,
   "metadata": {},
   "outputs": [],
   "source": [
    "iris = load_iris()\n",
    "df = pd.DataFrame(iris.data, columns=iris.feature_names)\n",
    "df.head()"
   ]
  },
  {
   "cell_type": "markdown",
   "metadata": {},
   "source": [
    "#### Train a simple model and dump it"
   ]
  },
  {
   "cell_type": "code",
   "execution_count": null,
   "metadata": {},
   "outputs": [],
   "source": [
    "\n",
    "clf = SVC()\n",
    "clf.fit(iris.data, iris.target)\n",
    "\n",
    "# Please note that there are security issues with such pickling https://scikit-learn.org/stable/modules/model_persistence.html#security-maintainability-limitations. I wouldn't recommend this during production \n",
    "dump(clf, 'iris_svc_model.joblib') \n",
    "\n",
    "# Delete the clf and load it from the disk during initalizaion\n",
    "del clf\n"
   ]
  },
  {
   "cell_type": "markdown",
   "metadata": {},
   "source": [
    "### Important \n",
    "\n",
    "You need to have some sort of global object that can be used to do inferences. In this example, I am making a simple global object\n",
    "\n"
   ]
  },
  {
   "cell_type": "code",
   "execution_count": null,
   "metadata": {},
   "outputs": [],
   "source": [
    "model = None"
   ]
  },
  {
   "cell_type": "code",
   "execution_count": null,
   "metadata": {},
   "outputs": [],
   "source": [
    "@initalize\n",
    "def my_initalization():\n",
    "    # Initailze your model\n",
    "\n",
    "    \n",
    "    model = load(\"iris_svc_model.joblib\")\n",
    "\n",
    "    print(\"My model initalized\")\n",
    "    "
   ]
  },
  {
   "cell_type": "markdown",
   "metadata": {},
   "source": [
    "For this example, I will assume that the request will have the format as below in the POST request's body\n",
    "\n",
    "```\n",
    "    {\n",
    "        'plant_dimension' : [1,2,3,4]\n",
    "    }\n",
    "```\n",
    "\n"
   ]
  },
  {
   "cell_type": "code",
   "execution_count": null,
   "metadata": {},
   "outputs": [],
   "source": [
    "@predict\n",
    "def my_prediction(query_dict):\n",
    "    global model\n",
    "\n",
    "    # Extract query from dictionary\n",
    "    plant_dimension = query['plant_dimension']\n",
    "\n",
    "    # Make prediction\n",
    "\n",
    "    model.predict(text)\n",
    "\n",
    "    pass"
   ]
  },
  {
   "cell_type": "code",
   "execution_count": null,
   "metadata": {},
   "outputs": [],
   "source": []
  }
 ],
 "metadata": {
  "kernelspec": {
   "display_name": "Python 3.7.4 64-bit ('datascience': conda)",
   "name": "python37464bitdatasciencecondaa6d3a21c00574213ab53e74f2ef82285"
  },
  "language_info": {
   "codemirror_mode": {
    "name": "ipython",
    "version": 3
   },
   "file_extension": ".py",
   "mimetype": "text/x-python",
   "name": "python",
   "nbconvert_exporter": "python",
   "pygments_lexer": "ipython3",
   "version": "3.7.4-final"
  }
 },
 "nbformat": 4,
 "nbformat_minor": 2
}
